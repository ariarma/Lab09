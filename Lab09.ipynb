{
  "nbformat": 4,
  "nbformat_minor": 0,
  "metadata": {
    "colab": {
      "provenance": [],
      "collapsed_sections": [],
      "authorship_tag": "ABX9TyNu1qZHZrtJbSY8T+7MzvY/",
      "include_colab_link": true
    },
    "kernelspec": {
      "name": "python3",
      "display_name": "Python 3"
    },
    "language_info": {
      "name": "python"
    }
  },
  "cells": [
    {
      "cell_type": "markdown",
      "metadata": {
        "id": "view-in-github",
        "colab_type": "text"
      },
      "source": [
        "<a href=\"https://colab.research.google.com/github/ariarma/Lab09/blob/main/Lab09.ipynb\" target=\"_parent\"><img src=\"https://colab.research.google.com/assets/colab-badge.svg\" alt=\"Open In Colab\"/></a>"
      ]
    },
    {
      "cell_type": "markdown",
      "source": [
        "## **Initinal**"
      ],
      "metadata": {
        "id": "-MPej5WqCZlw"
      }
    },
    {
      "cell_type": "markdown",
      "source": [
        "安裝&設定使用Python3.8"
      ],
      "metadata": {
        "id": "GmuAvLQaRYcx"
      }
    },
    {
      "cell_type": "code",
      "source": [
        "!sudo apt install python3.8\n",
        "!update-alternatives --install /usr/local/bin/python3 python3 /usr/bin/python3.8 2\n",
        "!update-alternatives --install /usr/local/bin/python3 python3 /usr/bin/python3.7 1\n",
        "!python --version\n",
        "!python3.8 -m pip install -U pip"
      ],
      "metadata": {
        "id": "aLV789FMNlW-",
        "colab": {
          "base_uri": "https://localhost:8080/"
        },
        "outputId": "ddd9a599-f1c4-4268-ed26-3466c6b718a8"
      },
      "execution_count": null,
      "outputs": [
        {
          "output_type": "stream",
          "name": "stdout",
          "text": [
            "Reading package lists... Done\n",
            "Building dependency tree       \n",
            "Reading state information... Done\n",
            "The following package was automatically installed and is no longer required:\n",
            "  libnvidia-common-460\n",
            "Use 'sudo apt autoremove' to remove it.\n",
            "The following additional packages will be installed:\n",
            "  libpython3.8-minimal libpython3.8-stdlib python3.8-minimal\n",
            "Suggested packages:\n",
            "  python3.8-venv binfmt-support\n",
            "The following NEW packages will be installed:\n",
            "  libpython3.8-minimal libpython3.8-stdlib python3.8 python3.8-minimal\n",
            "0 upgraded, 4 newly installed, 0 to remove and 4 not upgraded.\n",
            "Need to get 4,693 kB of archives.\n",
            "After this operation, 18.5 MB of additional disk space will be used.\n",
            "Get:1 http://ppa.launchpad.net/deadsnakes/ppa/ubuntu bionic/main amd64 libpython3.8-minimal amd64 3.8.15-1+bionic1 [762 kB]\n",
            "Get:2 http://ppa.launchpad.net/deadsnakes/ppa/ubuntu bionic/main amd64 python3.8-minimal amd64 3.8.15-1+bionic1 [1,838 kB]\n",
            "Get:3 http://ppa.launchpad.net/deadsnakes/ppa/ubuntu bionic/main amd64 libpython3.8-stdlib amd64 3.8.15-1+bionic1 [1,658 kB]\n",
            "Get:4 http://ppa.launchpad.net/deadsnakes/ppa/ubuntu bionic/main amd64 python3.8 amd64 3.8.15-1+bionic1 [435 kB]\n",
            "Fetched 4,693 kB in 4s (1,307 kB/s)\n",
            "debconf: unable to initialize frontend: Dialog\n",
            "debconf: (No usable dialog-like program is installed, so the dialog based frontend cannot be used. at /usr/share/perl5/Debconf/FrontEnd/Dialog.pm line 76, <> line 4.)\n",
            "debconf: falling back to frontend: Readline\n",
            "debconf: unable to initialize frontend: Readline\n",
            "debconf: (This frontend requires a controlling tty.)\n",
            "debconf: falling back to frontend: Teletype\n",
            "dpkg-preconfigure: unable to re-open stdin: \n",
            "Selecting previously unselected package libpython3.8-minimal:amd64.\n",
            "(Reading database ... 123942 files and directories currently installed.)\n",
            "Preparing to unpack .../libpython3.8-minimal_3.8.15-1+bionic1_amd64.deb ...\n",
            "Unpacking libpython3.8-minimal:amd64 (3.8.15-1+bionic1) ...\n",
            "Selecting previously unselected package python3.8-minimal.\n",
            "Preparing to unpack .../python3.8-minimal_3.8.15-1+bionic1_amd64.deb ...\n",
            "Unpacking python3.8-minimal (3.8.15-1+bionic1) ...\n",
            "Selecting previously unselected package libpython3.8-stdlib:amd64.\n",
            "Preparing to unpack .../libpython3.8-stdlib_3.8.15-1+bionic1_amd64.deb ...\n",
            "Unpacking libpython3.8-stdlib:amd64 (3.8.15-1+bionic1) ...\n",
            "Selecting previously unselected package python3.8.\n",
            "Preparing to unpack .../python3.8_3.8.15-1+bionic1_amd64.deb ...\n",
            "Unpacking python3.8 (3.8.15-1+bionic1) ...\n",
            "Setting up libpython3.8-minimal:amd64 (3.8.15-1+bionic1) ...\n",
            "Setting up python3.8-minimal (3.8.15-1+bionic1) ...\n",
            "Setting up libpython3.8-stdlib:amd64 (3.8.15-1+bionic1) ...\n",
            "Setting up python3.8 (3.8.15-1+bionic1) ...\n",
            "Processing triggers for mime-support (3.60ubuntu1) ...\n",
            "Processing triggers for man-db (2.8.3-2ubuntu0.1) ...\n",
            "update-alternatives: renaming python3 link from /usr/bin/python3 to /usr/local/bin/python3\n",
            "update-alternatives: using /usr/bin/python3.8 to provide /usr/local/bin/python3 (python3) in auto mode\n",
            "Python 3.8.15\n",
            "/usr/bin/python3.8: No module named pip\n"
          ]
        }
      ]
    },
    {
      "cell_type": "markdown",
      "source": [
        "安裝Lab09所需Python套件"
      ],
      "metadata": {
        "id": "AMU6lzyORVBC"
      }
    },
    {
      "cell_type": "code",
      "source": [
        "!python3.8 -m pip install pandas==1.3.4 numpy==1.18.5 matplotlib==3.5.0\n",
        "!python3.8 -m pip install pyglet==1.5.27\n",
        "!python3.8 -m pip install gym==0.8.0\n",
        "!python3.8 -m pip install tensorflow"
      ],
      "metadata": {
        "id": "5hPPAvNZEcA1",
        "colab": {
          "base_uri": "https://localhost:8080/"
        },
        "outputId": "61ed29d8-d1ad-484f-9082-e97b9988270c"
      },
      "execution_count": null,
      "outputs": [
        {
          "output_type": "stream",
          "name": "stdout",
          "text": [
            "/usr/bin/python3.8: No module named pip\n",
            "/usr/bin/python3.8: No module named pip\n",
            "/usr/bin/python3.8: No module named pip\n",
            "/usr/bin/python3.8: No module named pip\n"
          ]
        }
      ]
    },
    {
      "cell_type": "markdown",
      "source": [
        "為了在Colab顯示圖形化介面，需安裝pyvirtualdisplay"
      ],
      "metadata": {
        "id": "IlXHcV9mQ_Ge"
      }
    },
    {
      "cell_type": "code",
      "source": [
        "!python3.8 -m pip install -U pip\n",
        "!apt-get install xvfb\n",
        "!python3.8 -m pip install pyvirtualdisplay\n",
        "!python3.8 -m pip install Pillow"
      ],
      "metadata": {
        "colab": {
          "base_uri": "https://localhost:8080/"
        },
        "id": "nGngs-QDQ72q",
        "outputId": "89c334c3-dd18-47c7-a180-32bfa101bdfc"
      },
      "execution_count": null,
      "outputs": [
        {
          "output_type": "stream",
          "name": "stdout",
          "text": [
            "/usr/bin/python3.8: No module named pip\n",
            "Reading package lists... Done\n",
            "Building dependency tree       \n",
            "Reading state information... Done\n",
            "The following package was automatically installed and is no longer required:\n",
            "  libnvidia-common-460\n",
            "Use 'apt autoremove' to remove it.\n",
            "The following NEW packages will be installed:\n",
            "  xvfb\n",
            "0 upgraded, 1 newly installed, 0 to remove and 4 not upgraded.\n",
            "Need to get 785 kB of archives.\n",
            "After this operation, 2,271 kB of additional disk space will be used.\n",
            "Get:1 http://archive.ubuntu.com/ubuntu bionic-updates/universe amd64 xvfb amd64 2:1.19.6-1ubuntu4.11 [785 kB]\n",
            "Fetched 785 kB in 0s (2,140 kB/s)\n",
            "Selecting previously unselected package xvfb.\n",
            "(Reading database ... 124564 files and directories currently installed.)\n",
            "Preparing to unpack .../xvfb_2%3a1.19.6-1ubuntu4.11_amd64.deb ...\n",
            "Unpacking xvfb (2:1.19.6-1ubuntu4.11) ...\n",
            "Setting up xvfb (2:1.19.6-1ubuntu4.11) ...\n",
            "Processing triggers for man-db (2.8.3-2ubuntu0.1) ...\n",
            "/usr/bin/python3.8: No module named pip\n",
            "/usr/bin/python3.8: No module named pip\n"
          ]
        }
      ]
    },
    {
      "cell_type": "markdown",
      "source": [
        "## **執行Lab09**"
      ],
      "metadata": {
        "id": "D1sQ5GXrCjmg"
      }
    },
    {
      "cell_type": "code",
      "source": [
        "!python3.8 run_CartPole.py"
      ],
      "metadata": {
        "colab": {
          "base_uri": "https://localhost:8080/"
        },
        "id": "ZtVZox6BIDfp",
        "outputId": "74701496-9bc4-436e-ef71-eab954d5f592"
      },
      "execution_count": null,
      "outputs": [
        {
          "output_type": "stream",
          "name": "stdout",
          "text": [
            "python3.8: can't open file 'run_CartPole.py': [Errno 2] No such file or directory\n"
          ]
        }
      ]
    }
  ]
}